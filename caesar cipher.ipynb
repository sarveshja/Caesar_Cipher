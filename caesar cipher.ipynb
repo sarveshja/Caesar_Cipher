{
 "cells": [
  {
   "cell_type": "code",
   "execution_count": 18,
   "id": "8eba154b",
   "metadata": {},
   "outputs": [
    {
     "name": "stdout",
     "output_type": "stream",
     "text": [
      "Type 'encode' to encode text and 'decode' to decode text:decode\n",
      "Type your message:jgnnq yqtnf!\n",
      "Type the shift number:2\n",
      "Here's the decoded text hello world!\n",
      "Type 'yes' if you want to go again. Otherwise type 'no':no\n"
     ]
    }
   ],
   "source": [
    "alphabets = ['a', 'b', 'c', 'd', 'e', 'f', 'g', 'h', 'i', 'j', 'k', 'l', 'm', 'n', 'o', 'p', 'q', 'r', 's', 't', 'u', 'v', 'w', 'x', 'y', 'z','a', 'b', 'c', 'd', 'e', 'f', 'g', 'h', 'i', 'j', 'k', 'l', 'm', 'n', 'o', 'p', 'q', 'r', 's', 't', 'u', 'v', 'w', 'x', 'y', 'z']\n",
    "\n",
    "\n",
    "def get_inputs():\n",
    "    text = input(\"Type your message:\").lower()\n",
    "    shift = int(input(\"Type the shift number:\")) % 26\n",
    "    return [text,shift]\n",
    "\n",
    "def encode():\n",
    "    encoded_text = \"\"\n",
    "    inputs = get_inputs()\n",
    "    message = inputs[0]\n",
    "    shift_number = inputs[1]\n",
    "    for alphabet in message:\n",
    "        \n",
    "        if alphabet in alphabets:\n",
    "            index_of_alphabet = alphabets.index(alphabet)\n",
    "            encoded_text += alphabets[index_of_alphabet+shift_number]\n",
    "        else:\n",
    "            encoded_text += alphabet\n",
    "    print(f\"Here's the encoded result {encoded_text}\")\n",
    "\n",
    "def decode():\n",
    "    decoded_text = \"\"\n",
    "    inputs = get_inputs()\n",
    "    message = inputs[0]\n",
    "    shift_number = inputs[1]\n",
    "    for alphabet in message:\n",
    "        \n",
    "        if alphabet in alphabets:\n",
    "            index_of_alphabet = alphabets.index(alphabet)\n",
    "            decoded_text += alphabets[index_of_alphabet-shift_number]\n",
    "        else:\n",
    "            decoded_text += alphabet\n",
    "    print(f\"Here's the decoded text {decoded_text}\")\n",
    "\n",
    "while(True):\n",
    "    choice = input(\"Type 'encode' to encode text and 'decode' to decode text:\").lower()\n",
    "    if choice == 'encode':\n",
    "        encode()\n",
    "    elif choice == 'decode':\n",
    "        decode()\n",
    "    else:\n",
    "        print(\"Invalid choice\")\n",
    "    redo = input(\"Type 'yes' if you want to go again. Otherwise type 'no':\").lower()\n",
    "    if redo == 'no':\n",
    "        break\n"
   ]
  }
 ],
 "metadata": {
  "kernelspec": {
   "display_name": "Python 3 (ipykernel)",
   "language": "python",
   "name": "python3"
  },
  "language_info": {
   "codemirror_mode": {
    "name": "ipython",
    "version": 3
   },
   "file_extension": ".py",
   "mimetype": "text/x-python",
   "name": "python",
   "nbconvert_exporter": "python",
   "pygments_lexer": "ipython3",
   "version": "3.9.7"
  }
 },
 "nbformat": 4,
 "nbformat_minor": 5
}
